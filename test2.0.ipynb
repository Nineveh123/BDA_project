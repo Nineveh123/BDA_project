{
 "cells": [
  {
   "cell_type": "markdown",
   "metadata": {},
   "source": [
    "  \n",
    "   \n",
    " \n",
    "<font size=6px>第一次团队报告</font>\n",
    "\n",
    "\n",
    "\n",
    "> - 完成时间：2019年5月20日\n",
    "> - 团队成员：董选赫 徐成成 张琪\n",
    "\n",
    "-------"
   ]
  },
  {
   "cell_type": "markdown",
   "metadata": {},
   "source": [
    "# 问题背景\n",
    "\n",
    "时间序列，也叫时间数列、历史复数或动态数列。它是将某种统计指标的数值，按时间先后顺序排到所形成的数列。时间序列预测法就是通过编制和分析时间序列，根据时间序列所反映出来的发展过程、方向和趋势，进行类推或延伸，借以预测下一段时间或以后若干年内可能达到的水平。其内容包括：收集与整理某种社会现象的历史资料；对这些资料进行检查鉴别，排成数列；分析时间数列，从中寻找该社会现象随时间变化而变化的规律，得出一定的模式；以此模式去预测该社会现象将来的情况。\n",
    "  \n",
    "从生物数据，金融市场，天气预报到音频视频处理等许多重要的现实情景都出现了连续时间预测问题。\n",
    "\n",
    "# 数据集介绍  \n",
    "\n",
    "## 数据集来源\n",
    "Kaggle--Research Prediction Competition中的一个比赛：Web Traffic Time Series Forecasting.      \n",
    "\n",
    "## 数据集内容\n",
    "\n",
    "训练数据集由大约145k个时间序列组成，每个时间序列代表了一年半左右的时间里不同维基百科词语的每日浏览量，用以预测未来一年这些维基词语的访问情况。网站数量和流量庞大，并且是关于不同主题、使用不同语言（中文、英文、德语、西班牙语、日语、法语）、又分为不同的浏览媒介（PC、手机等）和不同的浏览对象（人类、爬虫）。这些复杂的组合使得这些网站的浏览量有着非常不同的表现。\n",
    "  \n",
    " ![20170814182621536.png](https://i.loli.net/2019/05/19/5ce103919304154537.png)      \n",
    " \n",
    " \n",
    " **数据集文件内容：**        \n",
    "train_1.csv       \n",
    "该csv文件中的每一行对应一个特定的词语，每一列对应一个特定的日期。（有些条目含有确实数据）。每个条目：包含Wikipedia项目(例如en.wikipedia.org)、访问类型(例如桌面)和代理类型(例如spider)。换句话说，每个文章的名称都具有以下格式:'name_project_access_agent'(例如，“AKB48_zh.wikipedia.org_all-access_spider”)。       \n",
    "train_2.csv\n",
    "对于每个时间序列，提供文章的名称以及该时间序列表示的流量类型(all、mobile、desktop、spider)。但此数据集的数据源不区分零值和缺失值的流量值（缺失值可能意味着流量为零或该数据当天不可用）。       \n",
    "key.csv          \n",
    "为了使结果文件尽可能的小，为每个页面和日期的组合提供了一个更短的Id，key.csv提供了用于预测的页面名称和缩短的Id列之间的映射。 \n",
    " \n",
    " \n",
    " # 拟用方法简介    \n",
    " \n",
    "1.利用该数据集的季度性      \n",
    "2.用log1p转换数据来近似SMAPE    \n",
    "3.选择性的丢弃异常值        \n",
    "4.通过训练Keras预测的残差和与XGBoost模型相同的特征以及来自Huber回归量和Keras模型的折叠预测来整合xgboost中的所有内容                     \n",
    "5.使用中位值而非原始值作为特征\n",
    " "
   ]
  },
  {
   "cell_type": "code",
   "execution_count": null,
   "metadata": {},
   "outputs": [],
   "source": []
  },
  {
   "cell_type": "code",
   "execution_count": null,
   "metadata": {},
   "outputs": [],
   "source": []
  },
  {
   "cell_type": "code",
   "execution_count": null,
   "metadata": {},
   "outputs": [],
   "source": []
  },
  {
   "cell_type": "code",
   "execution_count": null,
   "metadata": {},
   "outputs": [],
   "source": []
  }
 ],
 "metadata": {
  "kernelspec": {
   "display_name": "Python 3",
   "language": "python",
   "name": "python3"
  },
  "language_info": {
   "codemirror_mode": {
    "name": "ipython",
    "version": 3
   },
   "file_extension": ".py",
   "mimetype": "text/x-python",
   "name": "python",
   "nbconvert_exporter": "python",
   "pygments_lexer": "ipython3",
   "version": "3.6.5"
  },
  "toc": {
   "base_numbering": 1,
   "nav_menu": {},
   "number_sections": true,
   "sideBar": true,
   "skip_h1_title": false,
   "title_cell": "Table of Contents",
   "title_sidebar": "Contents",
   "toc_cell": false,
   "toc_position": {},
   "toc_section_display": true,
   "toc_window_display": true
  }
 },
 "nbformat": 4,
 "nbformat_minor": 1
}
